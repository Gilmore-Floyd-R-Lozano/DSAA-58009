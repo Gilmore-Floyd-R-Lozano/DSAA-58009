{
  "nbformat": 4,
  "nbformat_minor": 0,
  "metadata": {
    "colab": {
      "provenance": [],
      "authorship_tag": "ABX9TyNVDHqhjQ+4Rgy8b24hekbI",
      "include_colab_link": true
    },
    "kernelspec": {
      "name": "python3",
      "display_name": "Python 3"
    },
    "language_info": {
      "name": "python"
    }
  },
  "cells": [
    {
      "cell_type": "markdown",
      "metadata": {
        "id": "view-in-github",
        "colab_type": "text"
      },
      "source": [
        "<a href=\"https://colab.research.google.com/github/Gilmore-Floyd-R-Lozano/DSAA-58009/blob/main/Practical_Lab_Exam.ipynb\" target=\"_parent\"><img src=\"https://colab.research.google.com/assets/colab-badge.svg\" alt=\"Open In Colab\"/></a>"
      ]
    },
    {
      "cell_type": "code",
      "execution_count": 48,
      "metadata": {
        "colab": {
          "base_uri": "https://localhost:8080/"
        },
        "id": "2_EY6yQNXMBm",
        "outputId": "ed51a6e5-c818-4629-eb94-8f0cbac7d18e"
      },
      "outputs": [
        {
          "output_type": "stream",
          "name": "stdout",
          "text": [
            "The sum of odd test scores is: 211\n"
          ]
        }
      ],
      "source": [
        "odd_scores = 0\n",
        "test_scores = [26,49,98,87,62,75]\n",
        "for i in test_scores:\n",
        "  if i % 2 == 1:\n",
        "    odd_scores += i\n",
        "print(\"The sum of odd test scores is:\", odd_scores)\n"
      ]
    }
  ]
}