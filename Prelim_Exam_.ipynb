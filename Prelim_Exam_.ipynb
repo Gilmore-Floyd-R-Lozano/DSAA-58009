{
  "nbformat": 4,
  "nbformat_minor": 0,
  "metadata": {
    "colab": {
      "provenance": [],
      "authorship_tag": "ABX9TyPoIvp9esuVN9CAR52GII5I",
      "include_colab_link": true
    },
    "kernelspec": {
      "name": "python3",
      "display_name": "Python 3"
    },
    "language_info": {
      "name": "python"
    }
  },
  "cells": [
    {
      "cell_type": "markdown",
      "metadata": {
        "id": "view-in-github",
        "colab_type": "text"
      },
      "source": [
        "<a href=\"https://colab.research.google.com/github/Gilmore-Floyd-R-Lozano/DSAA-58009/blob/main/Prelim_Exam_.ipynb\" target=\"_parent\"><img src=\"https://colab.research.google.com/assets/colab-badge.svg\" alt=\"Open In Colab\"/></a>"
      ]
    },
    {
      "cell_type": "markdown",
      "source": [
        "Open your Python (Pycharm or Colab) or Dev C++ to create the source code for adding the test scores 26, 49, 98, 87, 62, 75 (30 points)\n",
        "\n",
        "Create a program to sort the test scores in ascending order (20 points)\n",
        "\n",
        "Draw the appropriate flowchart and save it as a pdf (format: Prelim.pdf) that should be uploaded here. (20 points)"
      ],
      "metadata": {
        "id": "MatuOKnu4w1x"
      }
    },
    {
      "cell_type": "code",
      "execution_count": 24,
      "metadata": {
        "colab": {
          "base_uri": "https://localhost:8080/"
        },
        "id": "Twkq3U-U3Ch3",
        "outputId": "53665639-c7ed-4fb3-e2b5-15e55f4ddc60"
      },
      "outputs": [
        {
          "output_type": "stream",
          "name": "stdout",
          "text": [
            "The sum of test scores is 397\n"
          ]
        }
      ],
      "source": [
        "test_scores = [26, 49, 98, 87, 62, 75]\n",
        "sum = 0\n",
        "for i in test_scores:\n",
        "  sum += i\n",
        "print(\"The sum of test scores is\", sum)"
      ]
    },
    {
      "cell_type": "code",
      "source": [
        "test_scores = [26, 49, 98, 87, 62, 75]\n",
        "test_scores.sort()\n",
        "print(\"The scores arranged in ascending order: \", test_scores)"
      ],
      "metadata": {
        "colab": {
          "base_uri": "https://localhost:8080/"
        },
        "id": "tZUL0F755kDY",
        "outputId": "79d18325-4508-46ad-c335-c468c2cc55ec"
      },
      "execution_count": 25,
      "outputs": [
        {
          "output_type": "stream",
          "name": "stdout",
          "text": [
            "The scores arranged in ascending order:  [26, 49, 62, 75, 87, 98]\n"
          ]
        }
      ]
    }
  ]
}