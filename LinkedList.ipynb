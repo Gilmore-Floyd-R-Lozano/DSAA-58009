{
  "nbformat": 4,
  "nbformat_minor": 0,
  "metadata": {
    "colab": {
      "provenance": [],
      "authorship_tag": "ABX9TyNDaOZT3lJltkd9o40w23wF",
      "include_colab_link": true
    },
    "kernelspec": {
      "name": "python3",
      "display_name": "Python 3"
    },
    "language_info": {
      "name": "python"
    }
  },
  "cells": [
    {
      "cell_type": "markdown",
      "metadata": {
        "id": "view-in-github",
        "colab_type": "text"
      },
      "source": [
        "<a href=\"https://colab.research.google.com/github/Gilmore-Floyd-R-Lozano/DSAA-58009/blob/main/LinkedList.ipynb\" target=\"_parent\"><img src=\"https://colab.research.google.com/assets/colab-badge.svg\" alt=\"Open In Colab\"/></a>"
      ]
    },
    {
      "cell_type": "markdown",
      "source": [
        "Array Typecode"
      ],
      "metadata": {
        "id": "kZ1U9IritGB3"
      }
    },
    {
      "cell_type": "code",
      "execution_count": null,
      "metadata": {
        "colab": {
          "base_uri": "https://localhost:8080/",
          "height": 35
        },
        "id": "12kXcZ2DqhFm",
        "outputId": "65be82a8-6d7e-4fed-c3cc-81c991cd3ad2"
      },
      "outputs": [
        {
          "output_type": "execute_result",
          "data": {
            "text/plain": [
              "'f'"
            ],
            "application/vnd.google.colaboratory.intrinsic+json": {
              "type": "string"
            }
          },
          "metadata": {},
          "execution_count": 9
        }
      ],
      "source": [
        "#Example 1\n",
        "import array\n",
        "array.typecodes\n",
        "a = array.array('i', [1,2,3,4,5,6])#initializing array a\n",
        "b = array.array('f', [1.5,2.5,3.5,4.5,5.5,6.5])#initializing array a\n",
        "a.typecode #getting the typecode of a\n",
        "b.typecode #getting the typecode of b\n"
      ]
    },
    {
      "cell_type": "code",
      "source": [
        "#Example 2\n",
        "from array import array # importing array module\n",
        "a= array('i',[4,5,6,7]) # initializing array\n",
        "a.insert(1,2) # inserting element: 2 at index: 1\n",
        "print(a) # Printing array a\n",
        "\n",
        "a.insert(-1,0) # insert element: 0 at index: -1\n",
        "print(a)\n",
        "a.insert(10, -1) # insert element: -1 at index: 10, this is out of range\n",
        "print(a)"
      ],
      "metadata": {
        "colab": {
          "base_uri": "https://localhost:8080/"
        },
        "id": "Utdyf5iUuQNv",
        "outputId": "95a4b6b6-94b9-48ed-94a9-d7a2200f25e5"
      },
      "execution_count": 1,
      "outputs": [
        {
          "output_type": "stream",
          "name": "stdout",
          "text": [
            "array('i', [4, 2, 5, 6, 7])\n",
            "array('i', [4, 2, 5, 6, 0, 7])\n",
            "array('i', [4, 2, 5, 6, 0, 7, -1])\n"
          ]
        }
      ]
    },
    {
      "cell_type": "code",
      "source": [
        "#Example 3\n",
        "#Node class\n",
        "class Node:\n",
        "  # Function to initialize the node object\n",
        "  def __init__(self,data):\n",
        "    self.data = data\n",
        "    self.next = None\n",
        "\n",
        "# Linked List class\n",
        "class LinkedList:\n",
        "  def __init__(self):\n",
        "    self.head = None\n"
      ],
      "metadata": {
        "id": "57iedEtXz-00"
      },
      "execution_count": 6,
      "outputs": []
    },
    {
      "cell_type": "markdown",
      "source": [
        "Singly Linked-List"
      ],
      "metadata": {
        "id": "K1rgEs1BH4qw"
      }
    },
    {
      "cell_type": "code",
      "source": [
        "#Singly Linked List\n",
        "class Node:\n",
        "  def __init__(self,data):\n",
        "    self.data = data\n",
        "    self.next = None\n",
        "    self.prev = None\n",
        "\n",
        "\n",
        "class LinkedList:\n",
        "  def __init__(self):\n",
        "    self.head = None\n",
        "    self.prev = None\n",
        "\n",
        "\n",
        "  def printlist(self):\n",
        "    temp = self.head\n",
        "    while(temp):\n",
        "      print(temp.data)\n",
        "      temp=temp.next\n",
        "\n",
        "\n",
        "if __name__=='__main__':\n",
        "\n",
        "  llist = LinkedList()\n",
        "  llist.head = Node(1)\n",
        "  second = Node(2)\n",
        "  third = Node(3)\n",
        "\n",
        "\n",
        "\n",
        "\n",
        "  llist.head.next = second; # Linkfirst node with second\n",
        "  second.next = third; # Linksecond node with the third node\n",
        "\n",
        "  llist.printlist()"
      ],
      "metadata": {
        "colab": {
          "base_uri": "https://localhost:8080/"
        },
        "id": "cbuxNkmFucpO",
        "outputId": "d8b03231-efd8-4648-f6eb-3e79c6106e8d"
      },
      "execution_count": null,
      "outputs": [
        {
          "output_type": "stream",
          "name": "stdout",
          "text": [
            "1\n",
            "2\n",
            "3\n"
          ]
        }
      ]
    },
    {
      "cell_type": "markdown",
      "source": [
        "Doubly Linked List"
      ],
      "metadata": {
        "id": "WT7s9EwVxofZ"
      }
    },
    {
      "cell_type": "code",
      "source": [
        "#Doubly Linked List\n",
        "#Program no.1\n",
        "# transform the Singly Linked List into a Doubly Linked List  to display 1,2,3,2,1\n",
        "class Node:\n",
        "    def __init__(self, data):\n",
        "        self.data = data    # = to data passed in\n",
        "        self.next = None    # set to null\n",
        "        self.prev = None    # set to null # pointer to previous node\n",
        "\n",
        "\n",
        "class DoublyLinkedList:\n",
        "    def __init__(self):\n",
        "        self.head = None    # if empty list, head node is null\n",
        "\n",
        "    def printlist(self):\n",
        "        temp = self.head    # set current/temp node to the head, sets the start at head\n",
        "        while (temp):   # while temp != null/none (while next pointer is not null/None)\n",
        "            print(temp.data)    # print the value/data of the current/temporary node\n",
        "            temp = temp.next    # update the current/temporary pointer to the next node\n",
        "\n",
        "        temp = third    # set temp/current node equal to the third node\n",
        "        while (temp):   # while temp != null/none (while prev pointer is not null/None)\n",
        "            if temp == third:   # check if current/temporary pointer == third node\n",
        "                temp = temp.prev    # update the current/temporary pointer to the previous node\n",
        "            else:   # current/temporary pointer != third node\n",
        "                print(temp.data)    # print the value/data of the current/temporary node\n",
        "                temp = temp.prev    # update the current/temporary pointer to the previous node\n",
        "\n",
        "\n",
        "if __name__ == '__main__':  # script is being run as the main program\n",
        "    dllist = DoublyLinkedList()  # function DoublyLinkedList() is called, assigned to variable dllist\n",
        "\n",
        "    dllist.head = Node(1)   # head Node value/data = 1\n",
        "    second = Node(2)    # second Node value/data = 2\n",
        "    third = Node(3)     # third Node value/data = 3\n",
        "\n",
        "    dllist.head.next = second   # next pointer of head = 2nd Node\n",
        "    second.next = third     # next pointer of 2nd Node = 3rd Node\n",
        "    third.prev = second     # prev pointer of 3rd Node  = 2nd Node\n",
        "    second.prev = dllist.head   # prev pointer of 2nd Node = head Node/1st Node\n",
        "    dllist.printlist()  # call printlist() function\n"
      ],
      "metadata": {
        "colab": {
          "base_uri": "https://localhost:8080/"
        },
        "id": "W1wFb5yzxvAi",
        "outputId": "5bb89de7-02ea-40a1-da5e-d4b6ee0f0732"
      },
      "execution_count": 5,
      "outputs": [
        {
          "output_type": "stream",
          "name": "stdout",
          "text": [
            "1\n",
            "2\n",
            "3\n",
            "2\n",
            "1\n"
          ]
        }
      ]
    },
    {
      "cell_type": "code",
      "source": [
        "#Program no.2\n",
        "# transform the Singly Linked List into a Doubly Linked List  to display 1,2,3,2,1\n",
        "class Node:\n",
        "  def __init__(self,data):\n",
        "    self.data = data  # = to data passed in\n",
        "    self.next = None  # set to null\n",
        "    self.prev = None  # set to null # pointer to previous node\n",
        "\n",
        "class DoublyLinkedList:\n",
        "  def __init__(self):\n",
        "    self.head = None  # if empty list, head node is null\n",
        "    self.tail = None  # tail pointer/node\n",
        "\n",
        "\n",
        "  def printlist(self):\n",
        "    temp = self.head  # set pointer equal to the head, sets the start at head\n",
        "    while (temp):  # while temp != null/none (while next pointer is not  null/None)\n",
        "      print(temp.data)  # print the value/data of the current/temporary node\n",
        "      temp = temp.next  # update the current/temporary pointer to the next node\n",
        "\n",
        "    temp = self.tail  # set current/temp node to the tail, sets the start at tail\n",
        "    while(temp):  # while temp != null/none (while prev pointer is not null/None)\n",
        "      print(temp.data)  # print the value/data of the current/temporary node\n",
        "      temp = temp.prev  # update the current/temporary pointer to the previous node\n",
        "\n",
        "\n",
        "if __name__=='__main__':\n",
        "  dllist = DoublyLinkedList()  # function DoublyLinkedList() is called, assigned to variable dllist\n",
        "\n",
        "  dllist.head = Node(1)  # head Node value/data = 1\n",
        "  second = Node(2)  # second Node value/data = 2\n",
        "  dllist.tail = Node(3)  # tail Node value/data = 3\n",
        "\n",
        "  dllist.head.next = second  # next pointer of head = 2nd Node\n",
        "  second.next = dllist.tail.prev # next pointer of second = prev pointer of tail\n",
        "  dllist.tail.prev = second  # prev pointer of tail = 2nd Node\n",
        "  second.prev = dllist.head  # prev pointer of 2nd Node = head Node\n",
        "  dllist.printlist()  # call printlist() function"
      ],
      "metadata": {
        "colab": {
          "base_uri": "https://localhost:8080/"
        },
        "id": "0-LOii84x3r7",
        "outputId": "2c803fd4-9329-414c-9138-976779516d82"
      },
      "execution_count": 4,
      "outputs": [
        {
          "output_type": "stream",
          "name": "stdout",
          "text": [
            "1\n",
            "2\n",
            "3\n",
            "2\n",
            "1\n"
          ]
        }
      ]
    }
  ]
}