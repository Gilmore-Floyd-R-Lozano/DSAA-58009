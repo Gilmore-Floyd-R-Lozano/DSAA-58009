{
  "nbformat": 4,
  "nbformat_minor": 0,
  "metadata": {
    "colab": {
      "provenance": [],
      "authorship_tag": "ABX9TyNOgAqplA6UpgtsN+97mKNm",
      "include_colab_link": true
    },
    "kernelspec": {
      "name": "python3",
      "display_name": "Python 3"
    },
    "language_info": {
      "name": "python"
    }
  },
  "cells": [
    {
      "cell_type": "markdown",
      "metadata": {
        "id": "view-in-github",
        "colab_type": "text"
      },
      "source": [
        "<a href=\"https://colab.research.google.com/github/Gilmore-Floyd-R-Lozano/DSAA-58009/blob/main/midterm_exam.ipynb\" target=\"_parent\"><img src=\"https://colab.research.google.com/assets/colab-badge.svg\" alt=\"Open In Colab\"/></a>"
      ]
    },
    {
      "cell_type": "code",
      "execution_count": 5,
      "metadata": {
        "id": "Oz-BQKcdN1q1",
        "colab": {
          "base_uri": "https://localhost:8080/"
        },
        "outputId": "4c58c97e-25b1-4f3a-c595-6ea9d71e830e"
      },
      "outputs": [
        {
          "output_type": "stream",
          "name": "stdout",
          "text": [
            "['A', 'B', 'C', 'D', 'E', 'F', 'G', 'I', 'J', 'K', 'L', 'M', 'N', 'O', 'P']\n",
            "[{'A', 'B'}, {'B', 'C'}, {'B', 'E'}, {'F', 'B'}, {'D', 'C'}, {'E', 'C'}, {'F', 'C'}, {'I', 'C'}, {'M', 'C'}, {'D', 'L'}, {'D', 'K'}, {'N', 'E'}, {'F', 'G'}, {'F', 'I'}, {'I', 'G'}, {'G', 'J'}, {'I', 'J'}, {'K', 'I'}, {'K', 'J'}, {'M', 'L'}, {'P', 'L'}, {'M', 'N'}, {'M', 'O'}, {'M', 'P'}, {'N', 'O'}, {'P', 'O'}]\n"
          ]
        }
      ],
      "source": [
        "def Vertices():\n",
        "  print(list(graph_dict.keys()))\n",
        "\n",
        "def Edges():\n",
        "  edges = []\n",
        "  for i in graph_dict:\n",
        "    for j in graph_dict[i]:\n",
        "      if {i,j} not in edges:\n",
        "        edges.append({i,j})\n",
        "  print(edges)\n",
        "\n",
        "graph_dict = {\n",
        "  'A' : ['B'],\n",
        "  'B' : ['A', 'C', 'E', 'F'],\n",
        "  'C' : ['B', 'D', 'E', 'F', 'I', 'M'],\n",
        "  'D' : ['C', 'L', 'K'],\n",
        "  'E' : ['B', 'C', 'N'],\n",
        "  'F' : ['B', 'C', 'G', 'I'],\n",
        "  'G' : ['F', 'I', 'J'],\n",
        "  'I' : ['C', 'F', 'G', 'J', 'K'],\n",
        "  'J' : ['G', 'I', 'K'],\n",
        "  'K' : ['D', 'I', 'J'],\n",
        "  'L' : ['D', 'M', 'P'],\n",
        "  'M' : ['C', 'L', 'N', 'O', 'P'],\n",
        "  'N' : ['E', 'M', 'O'],\n",
        "  'O' : ['M', 'N', 'P'],\n",
        "  'P' : ['L', 'M', 'O']}\n",
        "\n",
        "Vertices()\n",
        "Edges()"
      ]
    }
  ]
}