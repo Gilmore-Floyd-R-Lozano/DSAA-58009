{
  "nbformat": 4,
  "nbformat_minor": 0,
  "metadata": {
    "colab": {
      "provenance": [],
      "authorship_tag": "ABX9TyP6c8G8UDvwN2ZB38BMz86Q",
      "include_colab_link": true
    },
    "kernelspec": {
      "name": "python3",
      "display_name": "Python 3"
    },
    "language_info": {
      "name": "python"
    }
  },
  "cells": [
    {
      "cell_type": "markdown",
      "metadata": {
        "id": "view-in-github",
        "colab_type": "text"
      },
      "source": [
        "<a href=\"https://colab.research.google.com/github/Gilmore-Floyd-R-Lozano/DSAA-58009/blob/main/Long_Quiz_1.ipynb\" target=\"_parent\"><img src=\"https://colab.research.google.com/assets/colab-badge.svg\" alt=\"Open In Colab\"/></a>"
      ]
    },
    {
      "cell_type": "code",
      "source": [
        "#1 Create a python or C++ program that appends each character of your full name and displays each character in reverse order\n",
        "class Node:\n",
        "    def __init__(self,data):\n",
        "        self.data = data\n",
        "        self.next = None\n",
        "        self.prev = None\n",
        "\n",
        "class linkedList:\n",
        "    def __init__(self):\n",
        "        self.head = None\n",
        "\n",
        "    def printList(self):\n",
        "        temp = self.head\n",
        "        while temp:\n",
        "            print(temp.data, end=\"\")\n",
        "            temp = temp.next\n",
        "\n",
        "            if temp.next is None:\n",
        "              print(temp.data)\n",
        "              print(\"Reversed Order: \", end=\"\")\n",
        "              while(temp):\n",
        "                print(temp.data, end=\"\")\n",
        "                temp = temp.prev\n",
        "\n",
        "    def append(self, data):\n",
        "        new_node = Node(data)\n",
        "\n",
        "        if self.head is None:\n",
        "            new_node = Node(data)\n",
        "            new_node = Node(data)\n",
        "            new_node.prev = None\n",
        "            self.head = new_node\n",
        "\n",
        "        else:\n",
        "            new_node = Node(data)\n",
        "            temp = self.head\n",
        "            while(temp.next):\n",
        "                temp = temp.next\n",
        "            temp.next = new_node\n",
        "            new_node.prev = temp\n",
        "            temp.next = new_node\n",
        "            new_node.next = None\n",
        "\n",
        "FullName = str(input(\"Enter Full Name: \"))\n",
        "llist = linkedList()\n",
        "\n",
        "for character in FullName:\n",
        "    llist.append(character)\n",
        "\n",
        "llist.printList()\n"
      ],
      "metadata": {
        "colab": {
          "base_uri": "https://localhost:8080/"
        },
        "id": "FVwlDFtx9tIv",
        "outputId": "9247648d-6176-43db-f0c9-7f2ae36c841e"
      },
      "execution_count": 68,
      "outputs": [
        {
          "output_type": "stream",
          "name": "stdout",
          "text": [
            "Enter Full Name: Gilmore Floyd R. Lozano\n",
            "Gilmore Floyd R. Lozano\n",
            "Reversed Order: onazoL .R dyolF eromliG"
          ]
        }
      ]
    },
    {
      "cell_type": "code",
      "source": [
        "#2 Using the set of positive whole numbers from 1 to 10, create a python or C++ program that displays if it is prime or composite.\n",
        "class Node:\n",
        "  def  __init__(self, data):\n",
        "    self.data = data\n",
        "    self.tail = None\n",
        "    self.next = None\n",
        "\n",
        "class linkedList():\n",
        "  def __init__(self):\n",
        "    self.head = None\n",
        "\n",
        "  def append(self,NextNum):\n",
        "    newNode = Node(NextNum)\n",
        "    if self.head is None:\n",
        "      self.head = newNode\n",
        "      return\n",
        "    temp = self.head\n",
        "    while(temp.next):\n",
        "      temp  = temp.next\n",
        "    temp.next = newNode\n",
        "\n",
        "  def PrintList(self):\n",
        "    determiner = False\n",
        "    temp = self.head\n",
        "    while(temp):\n",
        "      if temp.data == 1:\n",
        "        print(temp.data, \" is neither a prime nor a composite number\")\n",
        "      elif temp.data >1:\n",
        "        for i in range(2, temp.data):\n",
        "          if (temp.data % i) == 0:\n",
        "            determiner = True\n",
        "            print(temp.data, \" is a composite number\")\n",
        "            break\n",
        "          else:\n",
        "            determiner = False\n",
        "\n",
        "        if determiner == False:\n",
        "          print(temp.data, \" is a prime number\")\n",
        "\n",
        "      temp = temp.next\n",
        "\n",
        "llist = linkedList()\n",
        "for num in range(1,11):\n",
        "  llist.append(num)\n",
        "llist.PrintList()\n",
        "\n"
      ],
      "metadata": {
        "colab": {
          "base_uri": "https://localhost:8080/"
        },
        "id": "wXZ8RgvFEH_K",
        "outputId": "49f21154-45f5-44d2-d012-280a7146e43c"
      },
      "execution_count": 66,
      "outputs": [
        {
          "output_type": "stream",
          "name": "stdout",
          "text": [
            "1  is neither a prime nor a composite number\n",
            "2  is a prime number\n",
            "3  is a prime number\n",
            "4  is a composite number\n",
            "5  is a prime number\n",
            "6  is a composite number\n",
            "7  is a prime number\n",
            "8  is a composite number\n",
            "9  is a composite number\n",
            "10  is a composite number\n"
          ]
        }
      ]
    }
  ]
}