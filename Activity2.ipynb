{
  "nbformat": 4,
  "nbformat_minor": 0,
  "metadata": {
    "colab": {
      "provenance": [],
      "authorship_tag": "ABX9TyP2plwLlUDsMCUasv1jvZ/O",
      "include_colab_link": true
    },
    "kernelspec": {
      "name": "python3",
      "display_name": "Python 3"
    },
    "language_info": {
      "name": "python"
    }
  },
  "cells": [
    {
      "cell_type": "markdown",
      "metadata": {
        "id": "view-in-github",
        "colab_type": "text"
      },
      "source": [
        "<a href=\"https://colab.research.google.com/github/Gilmore-Floyd-R-Lozano/DSAA-58009/blob/main/Activity2.ipynb\" target=\"_parent\"><img src=\"https://colab.research.google.com/assets/colab-badge.svg\" alt=\"Open In Colab\"/></a>"
      ]
    },
    {
      "cell_type": "code",
      "source": [
        "class Node:\n",
        "  def  __init__(self, data):\n",
        "    self.data = data\n",
        "    self.tail = None\n",
        "    self.next = None\n",
        "\n",
        "class SinglyLinkedList():\n",
        "  def __init__(self):\n",
        "    self.head = None\n",
        "    self.tail = None\n",
        "\n",
        "\n",
        "  def append(self,NextNum):\n",
        "            newNode = Node(NextNum)\n",
        "            if self.head is None:\n",
        "              self.head = newNode\n",
        "              return\n",
        "            temp = self.head\n",
        "            while(temp.next):\n",
        "              temp  = temp.next\n",
        "            temp.next = newNode\n",
        "            self.tail = newNode\n",
        "\n",
        "  def PrintList(self):\n",
        "    temp = self.head\n",
        "    while(temp):\n",
        "      print(temp.data)\n",
        "      temp = temp.next\n",
        "\n",
        "    print(\"The head is:\", self.head.data)\n",
        "    print(\"The tail is:\", self.tail.data)\n",
        "\n",
        "\n",
        "sllist = SinglyLinkedList()\n",
        "x=False\n",
        "for num in range(1,20):\n",
        "  if num>1:\n",
        "    for i in range(2, num):\n",
        "        if (num % i) == 0:\n",
        "          x=True\n",
        "          break\n",
        "        else:\n",
        "          x = False\n",
        "    if x!= True:\n",
        "      sllist.append(num)\n",
        "sllist.PrintList()\n",
        "\n",
        "\n",
        "\n",
        "\n"
      ],
      "metadata": {
        "colab": {
          "base_uri": "https://localhost:8080/"
        },
        "id": "u5HtiFbZh59n",
        "outputId": "2878cff5-0571-4c5b-e5b6-697fe8fbe53c"
      },
      "execution_count": 90,
      "outputs": [
        {
          "output_type": "stream",
          "name": "stdout",
          "text": [
            "2\n",
            "3\n",
            "5\n",
            "7\n",
            "11\n",
            "13\n",
            "17\n",
            "19\n",
            "The head is: 2\n",
            "The tail is: 19\n"
          ]
        }
      ]
    },
    {
      "cell_type": "code",
      "execution_count": 13,
      "metadata": {
        "colab": {
          "base_uri": "https://localhost:8080/"
        },
        "id": "bz3X-M4NXNKq",
        "outputId": "c698c922-8bf4-4d60-d03c-18738810fde3"
      },
      "outputs": [
        {
          "output_type": "stream",
          "name": "stdout",
          "text": [
            "2\n",
            "3\n",
            "5\n",
            "7\n",
            "11\n",
            "13\n",
            "17\n",
            "19\n",
            "The head is:  2 \n",
            "The tail is:  19\n"
          ]
        }
      ],
      "source": [
        "class Node:\n",
        "  def  __init__(self, data):\n",
        "    self.data = data\n",
        "    self.tail = None\n",
        "    self.next = None\n",
        "\n",
        "class SinglyLinkedList():\n",
        "  def __init__(self):\n",
        "    self.head = None\n",
        "    self.tail = None\n",
        "\n",
        "  def PrintList(self):\n",
        "    temp = self.head\n",
        "    while(temp):\n",
        "      print(temp.data)\n",
        "      temp = temp.next\n",
        "    print(\"The head is: \",self.head.data,\"\\nThe tail is: \", self.tail.data)\n",
        "\n",
        "sllist = SinglyLinkedList()\n",
        "sllist.head = Node(2)\n",
        "a = Node(3)\n",
        "b = Node(5)\n",
        "c = Node(7)\n",
        "d = Node(11)\n",
        "e = Node(13)\n",
        "f = Node(17)\n",
        "sllist.tail = Node(19)\n",
        "\n",
        "sllist.head.next  = a\n",
        "a.next = b\n",
        "b.next = c\n",
        "c.next = d\n",
        "d.next = e\n",
        "e.next = f\n",
        "f.next = sllist.tail\n",
        "\n",
        "sllist.PrintList()"
      ]
    }
  ]
}