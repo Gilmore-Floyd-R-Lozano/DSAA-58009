{
  "nbformat": 4,
  "nbformat_minor": 0,
  "metadata": {
    "colab": {
      "provenance": [],
      "authorship_tag": "ABX9TyNi/lioYI/hbJSzlVNeReYP",
      "include_colab_link": true
    },
    "kernelspec": {
      "name": "python3",
      "display_name": "Python 3"
    },
    "language_info": {
      "name": "python"
    }
  },
  "cells": [
    {
      "cell_type": "markdown",
      "metadata": {
        "id": "view-in-github",
        "colab_type": "text"
      },
      "source": [
        "<a href=\"https://colab.research.google.com/github/Gilmore-Floyd-R-Lozano/DSAA-58009/blob/main/Long_Quiz_2.ipynb\" target=\"_parent\"><img src=\"https://colab.research.google.com/assets/colab-badge.svg\" alt=\"Open In Colab\"/></a>"
      ]
    },
    {
      "cell_type": "code",
      "source": [
        "def Vertices():\n",
        "  print(list(graph_dict.keys()))\n",
        "\n",
        "def Edges():\n",
        "  edges = []\n",
        "  for i in graph_dict:\n",
        "    for j in graph_dict[i]:\n",
        "      if {i,j} not in edges:\n",
        "        edges.append({i,j})\n",
        "  print(edges)\n",
        "\n",
        "graph_dict = {\n",
        "    'E' : ['I', 'J', 'K'],\n",
        "    'F' : ['I', 'J', 'K'],\n",
        "    'H' : ['I', 'J', 'K'],\n",
        "    'I' : ['E', 'F', 'H'],\n",
        "    'J' : ['E', 'F', 'H'],\n",
        "    'K' : ['E', 'F', 'H'],\n",
        "    'M' : ['E'],\n",
        "    'P' : ['F']         }\n",
        "Vertices()\n",
        "Edges()"
      ],
      "metadata": {
        "colab": {
          "base_uri": "https://localhost:8080/"
        },
        "id": "zRTYTjpEyV92",
        "outputId": "adaacb8e-7bc1-405c-fecc-49097a76ba6b"
      },
      "execution_count": 18,
      "outputs": [
        {
          "output_type": "stream",
          "name": "stdout",
          "text": [
            "['E', 'F', 'H', 'I', 'J', 'K', 'M', 'P']\n",
            "[{'E', 'I'}, {'J', 'E'}, {'E', 'K'}, {'F', 'I'}, {'F', 'J'}, {'F', 'K'}, {'H', 'I'}, {'J', 'H'}, {'H', 'K'}, {'E', 'M'}, {'F', 'P'}]\n"
          ]
        }
      ]
    }
  ]
}