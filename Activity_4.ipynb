{
  "nbformat": 4,
  "nbformat_minor": 0,
  "metadata": {
    "colab": {
      "provenance": [],
      "authorship_tag": "ABX9TyPPnql0etyQb3ui58Y69O48",
      "include_colab_link": true
    },
    "kernelspec": {
      "name": "python3",
      "display_name": "Python 3"
    },
    "language_info": {
      "name": "python"
    }
  },
  "cells": [
    {
      "cell_type": "markdown",
      "metadata": {
        "id": "view-in-github",
        "colab_type": "text"
      },
      "source": [
        "<a href=\"https://colab.research.google.com/github/Gilmore-Floyd-R-Lozano/DSAA-58009/blob/main/Activity_4.ipynb\" target=\"_parent\"><img src=\"https://colab.research.google.com/assets/colab-badge.svg\" alt=\"Open In Colab\"/></a>"
      ]
    },
    {
      "cell_type": "code",
      "source": [
        "#implementation of queue data structure, own application freestyle\n",
        "queue = []\n",
        "command =\"\"\n",
        "class Queue:\n",
        "  def __init__(self,data):\n",
        "    self.data = data\n",
        "\n",
        "  def addTask(self):\n",
        "    queue.append(self.data)\n",
        "    print(\"\\nTo do list:\", queue,\"\\n\")\n",
        "\n",
        "  def performTask(self):\n",
        "    if queue == []:\n",
        "      print(\"No task to do\\n\")\n",
        "    else:\n",
        "      print(\"Task Completed:\",queue.pop(0))\n",
        "      print(\"\\nTo do list:\", queue,\"\\n\")\n",
        "\n",
        "  def printList(self):\n",
        "    print(\"\\nTo do list:\", queue,\"\\n\")\n",
        "\n",
        "print(\"Commands: addTask, performTask, printList\")\n",
        "\n",
        "while True:\n",
        "  command = input(\"Enter Command: \")\n",
        "  if command == \"addTask\":\n",
        "    Tlist = Queue(input(\"Enter Task: \"))\n",
        "    Tlist.addTask()\n",
        "\n",
        "\n",
        "  elif command == \"performTask\":\n",
        "    Tlist.performTask()\n",
        "\n",
        "\n",
        "  elif command == \"printList\":\n",
        "    Tlist.printList()\n",
        "\n",
        "  else:\n",
        "    break\n",
        "\n"
      ],
      "metadata": {
        "colab": {
          "base_uri": "https://localhost:8080/"
        },
        "id": "vmAr0Fc83iXC",
        "outputId": "67734a3c-3177-45be-89da-e15c6880c197"
      },
      "execution_count": 14,
      "outputs": [
        {
          "name": "stdout",
          "output_type": "stream",
          "text": [
            "Commands: addTask, performTask, printList\n",
            "Enter Command: addTask\n",
            "Enter Task: clean\n",
            "\n",
            "To do list: ['clean'] \n",
            "\n",
            "Enter Command: addTask\n",
            "Enter Task: cook\n",
            "\n",
            "To do list: ['clean', 'cook'] \n",
            "\n",
            "Enter Command: performTask\n",
            "Task Completed: clean\n",
            "\n",
            "To do list: ['cook'] \n",
            "\n",
            "Enter Command: performTask\n",
            "Task Completed: cook\n",
            "\n",
            "To do list: [] \n",
            "\n",
            "Enter Command: performTask\n",
            "No task to do\n",
            "\n",
            "Enter Command: end\n"
          ]
        }
      ]
    }
  ]
}