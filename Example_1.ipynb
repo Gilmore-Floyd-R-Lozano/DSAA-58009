{
  "nbformat": 4,
  "nbformat_minor": 0,
  "metadata": {
    "colab": {
      "provenance": [],
      "authorship_tag": "ABX9TyPWLNM/i+G1M2lhjTtYvGYs",
      "include_colab_link": true
    },
    "kernelspec": {
      "name": "python3",
      "display_name": "Python 3"
    },
    "language_info": {
      "name": "python"
    }
  },
  "cells": [
    {
      "cell_type": "markdown",
      "metadata": {
        "id": "view-in-github",
        "colab_type": "text"
      },
      "source": [
        "<a href=\"https://colab.research.google.com/github/Gilmore-Floyd-R-Lozano/DSAA-58009/blob/main/Example_1.ipynb\" target=\"_parent\"><img src=\"https://colab.research.google.com/assets/colab-badge.svg\" alt=\"Open In Colab\"/></a>"
      ]
    },
    {
      "cell_type": "code",
      "execution_count": 1,
      "metadata": {
        "colab": {
          "base_uri": "https://localhost:8080/"
        },
        "id": "LjiRzUnf2FyF",
        "outputId": "b585d85c-515a-44dd-888a-8f43236276b2"
      },
      "outputs": [
        {
          "output_type": "stream",
          "name": "stdout",
          "text": [
            "Enter length: 10\n",
            "Enter width: 10\n",
            "The area is  100.0\n"
          ]
        }
      ],
      "source": [
        "class Rectangle:\n",
        "  def __init__(self,length,width):\n",
        "    self.length = float(input(\"Enter length: \"))\n",
        "    self.width = float(input(\"Enter width: \"))\n",
        "  def perimeter(self):\n",
        "    return 2 * self.pi * self.radius\n",
        "  def area(self):\n",
        "    return self.length * self.width\n",
        "  def display(self):\n",
        "    print(\"The area is \", self.area())\n",
        "\n",
        "Rectangle= Rectangle(input,input)\n",
        "Rectangle.display()\n"
      ]
    }
  ]
}